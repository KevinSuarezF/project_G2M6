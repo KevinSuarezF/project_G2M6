{
 "cells": [
  {
   "cell_type": "markdown",
   "id": "3375e4c3",
   "metadata": {},
   "source": [
    "# Lectura de los datos"
   ]
  },
  {
   "cell_type": "code",
   "execution_count": 1,
   "id": "4e56c8c2",
   "metadata": {},
   "outputs": [],
   "source": [
    "import pandas as pd\n",
    "import numpy as np\n",
    "import matplotlib.pyplot as plt\n",
    "import seaborn as sns"
   ]
  },
  {
   "cell_type": "code",
   "execution_count": 2,
   "id": "1ee4cf19",
   "metadata": {},
   "outputs": [
    {
     "name": "stdout",
     "output_type": "stream",
     "text": [
      "Total de registro en el dataset: 12433\n"
     ]
    },
    {
     "data": {
      "text/html": [
       "<div>\n",
       "<style scoped>\n",
       "    .dataframe tbody tr th:only-of-type {\n",
       "        vertical-align: middle;\n",
       "    }\n",
       "\n",
       "    .dataframe tbody tr th {\n",
       "        vertical-align: top;\n",
       "    }\n",
       "\n",
       "    .dataframe thead th {\n",
       "        text-align: right;\n",
       "    }\n",
       "</style>\n",
       "<table border=\"1\" class=\"dataframe\">\n",
       "  <thead>\n",
       "    <tr style=\"text-align: right;\">\n",
       "      <th></th>\n",
       "      <th>Novedad</th>\n",
       "      <th>Marca</th>\n",
       "      <th>Clase</th>\n",
       "      <th>Codigo</th>\n",
       "      <th>HomologoCodigo</th>\n",
       "      <th>Referencia1</th>\n",
       "      <th>Referencia2</th>\n",
       "      <th>Referencia3</th>\n",
       "      <th>Peso</th>\n",
       "      <th>IdServicio</th>\n",
       "      <th>...</th>\n",
       "      <th>CapacidadPasajeros</th>\n",
       "      <th>CapacidadCarga</th>\n",
       "      <th>Puertas</th>\n",
       "      <th>AireAcondicionado</th>\n",
       "      <th>Ejes</th>\n",
       "      <th>Estado</th>\n",
       "      <th>Combustible</th>\n",
       "      <th>Transmision</th>\n",
       "      <th>Um</th>\n",
       "      <th>PesoCategoria</th>\n",
       "    </tr>\n",
       "  </thead>\n",
       "  <tbody>\n",
       "    <tr>\n",
       "      <th>0</th>\n",
       "      <td>M</td>\n",
       "      <td>ALEKO</td>\n",
       "      <td>AUTOMOVIL</td>\n",
       "      <td>101001</td>\n",
       "      <td>NaN</td>\n",
       "      <td>2141</td>\n",
       "      <td>1.6</td>\n",
       "      <td>MT 1600CC TAXI</td>\n",
       "      <td>1380</td>\n",
       "      <td>2</td>\n",
       "      <td>...</td>\n",
       "      <td>5</td>\n",
       "      <td>0</td>\n",
       "      <td>5</td>\n",
       "      <td>0</td>\n",
       "      <td>2</td>\n",
       "      <td>Activo</td>\n",
       "      <td>GSL</td>\n",
       "      <td>4X2</td>\n",
       "      <td>0</td>\n",
       "      <td>1</td>\n",
       "    </tr>\n",
       "    <tr>\n",
       "      <th>1</th>\n",
       "      <td>M</td>\n",
       "      <td>AMERICAN MOTOR</td>\n",
       "      <td>CAMIONETA PASAJ.</td>\n",
       "      <td>206001</td>\n",
       "      <td>NaN</td>\n",
       "      <td>EAGLE</td>\n",
       "      <td>SUMMIT</td>\n",
       "      <td>AT 2400CC LX 4P</td>\n",
       "      <td>0</td>\n",
       "      <td>1</td>\n",
       "      <td>...</td>\n",
       "      <td>5</td>\n",
       "      <td>0</td>\n",
       "      <td>5</td>\n",
       "      <td>0</td>\n",
       "      <td>2</td>\n",
       "      <td>Activo</td>\n",
       "      <td>NaN</td>\n",
       "      <td>NaN</td>\n",
       "      <td>0</td>\n",
       "      <td>1</td>\n",
       "    </tr>\n",
       "    <tr>\n",
       "      <th>2</th>\n",
       "      <td>M</td>\n",
       "      <td>AMERICAN MOTOR</td>\n",
       "      <td>CAMPERO</td>\n",
       "      <td>208003</td>\n",
       "      <td>NaN</td>\n",
       "      <td>WRANGLER</td>\n",
       "      <td>4.2</td>\n",
       "      <td>MT 4200CC CAB</td>\n",
       "      <td>1100</td>\n",
       "      <td>1</td>\n",
       "      <td>...</td>\n",
       "      <td>5</td>\n",
       "      <td>0</td>\n",
       "      <td>3</td>\n",
       "      <td>1</td>\n",
       "      <td>2</td>\n",
       "      <td>Activo</td>\n",
       "      <td>NaN</td>\n",
       "      <td>4X4</td>\n",
       "      <td>0</td>\n",
       "      <td>1</td>\n",
       "    </tr>\n",
       "    <tr>\n",
       "      <th>3</th>\n",
       "      <td>M</td>\n",
       "      <td>AMERICAN MOTOR</td>\n",
       "      <td>CAMPERO</td>\n",
       "      <td>208004</td>\n",
       "      <td>NaN</td>\n",
       "      <td>WRANGLER</td>\n",
       "      <td>4.2</td>\n",
       "      <td>MT 2500CC CARPADO</td>\n",
       "      <td>1100</td>\n",
       "      <td>1</td>\n",
       "      <td>...</td>\n",
       "      <td>5</td>\n",
       "      <td>0</td>\n",
       "      <td>3</td>\n",
       "      <td>1</td>\n",
       "      <td>2</td>\n",
       "      <td>Activo</td>\n",
       "      <td>NaN</td>\n",
       "      <td>4X4</td>\n",
       "      <td>0</td>\n",
       "      <td>1</td>\n",
       "    </tr>\n",
       "    <tr>\n",
       "      <th>4</th>\n",
       "      <td>M</td>\n",
       "      <td>AUTECO</td>\n",
       "      <td>MOTOCICLETA</td>\n",
       "      <td>317003</td>\n",
       "      <td>NaN</td>\n",
       "      <td>SUMA</td>\n",
       "      <td>80</td>\n",
       "      <td>MT 80CC 2T</td>\n",
       "      <td>75</td>\n",
       "      <td>1</td>\n",
       "      <td>...</td>\n",
       "      <td>2</td>\n",
       "      <td>0</td>\n",
       "      <td>0</td>\n",
       "      <td>0</td>\n",
       "      <td>2</td>\n",
       "      <td>Activo</td>\n",
       "      <td>GSL</td>\n",
       "      <td>2X1</td>\n",
       "      <td>0</td>\n",
       "      <td>1</td>\n",
       "    </tr>\n",
       "  </tbody>\n",
       "</table>\n",
       "<p>5 rows × 76 columns</p>\n",
       "</div>"
      ],
      "text/plain": [
       "  Novedad           Marca             Clase  Codigo  HomologoCodigo  \\\n",
       "0       M           ALEKO         AUTOMOVIL  101001             NaN   \n",
       "1       M  AMERICAN MOTOR  CAMIONETA PASAJ.  206001             NaN   \n",
       "2       M  AMERICAN MOTOR           CAMPERO  208003             NaN   \n",
       "3       M  AMERICAN MOTOR           CAMPERO  208004             NaN   \n",
       "4       M          AUTECO       MOTOCICLETA  317003             NaN   \n",
       "\n",
       "  Referencia1 Referencia2        Referencia3  Peso  IdServicio  ...  \\\n",
       "0        2141         1.6     MT 1600CC TAXI  1380           2  ...   \n",
       "1       EAGLE      SUMMIT    AT 2400CC LX 4P     0           1  ...   \n",
       "2    WRANGLER         4.2      MT 4200CC CAB  1100           1  ...   \n",
       "3    WRANGLER         4.2  MT 2500CC CARPADO  1100           1  ...   \n",
       "4        SUMA          80         MT 80CC 2T    75           1  ...   \n",
       "\n",
       "  CapacidadPasajeros  CapacidadCarga  Puertas  AireAcondicionado  Ejes  \\\n",
       "0                  5               0        5                  0     2   \n",
       "1                  5               0        5                  0     2   \n",
       "2                  5               0        3                  1     2   \n",
       "3                  5               0        3                  1     2   \n",
       "4                  2               0        0                  0     2   \n",
       "\n",
       "   Estado  Combustible  Transmision  Um  PesoCategoria  \n",
       "0  Activo          GSL          4X2   0              1  \n",
       "1  Activo          NaN          NaN   0              1  \n",
       "2  Activo          NaN          4X4   0              1  \n",
       "3  Activo          NaN          4X4   0              1  \n",
       "4  Activo          GSL          2X1   0              1  \n",
       "\n",
       "[5 rows x 76 columns]"
      ]
     },
     "execution_count": 2,
     "metadata": {},
     "output_type": "execute_result"
    }
   ],
   "source": [
    "base_path = \"PROJECT_G2M6/\"\n",
    "df = pd.read_csv(f\"{base_path}src/nombre_paquete/database/vehicles_colombia.csv\")\n",
    "print(f\"Total de registro en el dataset: {len(df)}\")\n",
    "df.head()"
   ]
  },
  {
   "cell_type": "code",
   "execution_count": 3,
   "id": "5a92dd75",
   "metadata": {},
   "outputs": [
    {
     "data": {
      "text/plain": [
       "Index(['Novedad', 'Marca', 'Clase', 'Codigo', 'HomologoCodigo', 'Referencia1',\n",
       "       'Referencia2', 'Referencia3', 'Peso', 'IdServicio', 'Servicio', '1970',\n",
       "       '1971', '1972', '1973', '1974', '1975', '1976', '1977', '1978', '1979',\n",
       "       '1980', '1981', '1982', '1983', '1984', '1985', '1986', '1987', '1988',\n",
       "       '1989', '1990', '1991', '1992', '1993', '1994', '1995', '1996', '1997',\n",
       "       '1998', '1999', '2000', '2001', '2002', '2003', '2004', '2005', '2006',\n",
       "       '2007', '2008', '2009', '2010', '2011', '2012', '2013', '2014', '2015',\n",
       "       '2016', '2017', '2018', 'Bcpp', 'Importado', 'Potencia', 'TipoCaja',\n",
       "       'Cilindraje', 'Nacionalidad', 'CapacidadPasajeros', 'CapacidadCarga',\n",
       "       'Puertas', 'AireAcondicionado', 'Ejes', 'Estado', 'Combustible',\n",
       "       'Transmision', 'Um', 'PesoCategoria'],\n",
       "      dtype='object')"
      ]
     },
     "execution_count": 3,
     "metadata": {},
     "output_type": "execute_result"
    }
   ],
   "source": [
    "df.columns"
   ]
  },
  {
   "cell_type": "markdown",
   "id": "9ae5fe3a",
   "metadata": {},
   "source": [
    "# Preprocesamiento"
   ]
  },
  {
   "cell_type": "markdown",
   "id": "2b22436c",
   "metadata": {},
   "source": [
    "## Limpieza de duplicados"
   ]
  },
  {
   "cell_type": "code",
   "execution_count": 4,
   "id": "e114e2e0",
   "metadata": {
    "scrolled": true
   },
   "outputs": [
    {
     "data": {
      "text/html": [
       "<div>\n",
       "<style scoped>\n",
       "    .dataframe tbody tr th:only-of-type {\n",
       "        vertical-align: middle;\n",
       "    }\n",
       "\n",
       "    .dataframe tbody tr th {\n",
       "        vertical-align: top;\n",
       "    }\n",
       "\n",
       "    .dataframe thead th {\n",
       "        text-align: right;\n",
       "    }\n",
       "</style>\n",
       "<table border=\"1\" class=\"dataframe\">\n",
       "  <thead>\n",
       "    <tr style=\"text-align: right;\">\n",
       "      <th></th>\n",
       "      <th>Novedad</th>\n",
       "      <th>Marca</th>\n",
       "      <th>Clase</th>\n",
       "      <th>Codigo</th>\n",
       "      <th>HomologoCodigo</th>\n",
       "      <th>Referencia1</th>\n",
       "      <th>Referencia2</th>\n",
       "      <th>Referencia3</th>\n",
       "      <th>Peso</th>\n",
       "      <th>IdServicio</th>\n",
       "      <th>...</th>\n",
       "      <th>CapacidadPasajeros</th>\n",
       "      <th>CapacidadCarga</th>\n",
       "      <th>Puertas</th>\n",
       "      <th>AireAcondicionado</th>\n",
       "      <th>Ejes</th>\n",
       "      <th>Estado</th>\n",
       "      <th>Combustible</th>\n",
       "      <th>Transmision</th>\n",
       "      <th>Um</th>\n",
       "      <th>PesoCategoria</th>\n",
       "    </tr>\n",
       "  </thead>\n",
       "  <tbody>\n",
       "  </tbody>\n",
       "</table>\n",
       "<p>0 rows × 76 columns</p>\n",
       "</div>"
      ],
      "text/plain": [
       "Empty DataFrame\n",
       "Columns: [Novedad, Marca, Clase, Codigo, HomologoCodigo, Referencia1, Referencia2, Referencia3, Peso, IdServicio, Servicio, 1970, 1971, 1972, 1973, 1974, 1975, 1976, 1977, 1978, 1979, 1980, 1981, 1982, 1983, 1984, 1985, 1986, 1987, 1988, 1989, 1990, 1991, 1992, 1993, 1994, 1995, 1996, 1997, 1998, 1999, 2000, 2001, 2002, 2003, 2004, 2005, 2006, 2007, 2008, 2009, 2010, 2011, 2012, 2013, 2014, 2015, 2016, 2017, 2018, Bcpp, Importado, Potencia, TipoCaja, Cilindraje, Nacionalidad, CapacidadPasajeros, CapacidadCarga, Puertas, AireAcondicionado, Ejes, Estado, Combustible, Transmision, Um, PesoCategoria]\n",
       "Index: []\n",
       "\n",
       "[0 rows x 76 columns]"
      ]
     },
     "execution_count": 4,
     "metadata": {},
     "output_type": "execute_result"
    }
   ],
   "source": [
    "df[df.Codigo.duplicated()]"
   ]
  },
  {
   "cell_type": "code",
   "execution_count": 5,
   "id": "53411ee5",
   "metadata": {},
   "outputs": [
    {
     "name": "stdout",
     "output_type": "stream",
     "text": [
      "Registros duplicados según nombre completo del vehículo: 27\n",
      "Registros restantes (NO DUPLICADOS) tras limpieza: 12406\n"
     ]
    }
   ],
   "source": [
    "df[\"NombreVehiculo\"] = (\"(\" + df[\"Clase\"] + \") \" + df[\"Marca\"] + \" - \" + df[\"Referencia1\"] + \" \" + df[\"Referencia2\"] + \" \" + df[\"Referencia3\"])\n",
    "print(f\"Registros duplicados según nombre completo del vehículo: {len(df[df.NombreVehiculo.duplicated()])}\")\n",
    "df_clean = df[~df.NombreVehiculo.duplicated()].set_index(\"NombreVehiculo\").drop(columns=[str(x) for x in range(1970,2018)] + [\"Referencia1\", \"Referencia2\", \"Referencia3\", \"Codigo\", \"HomologoCodigo\", \"Servicio\", \"Um\", \"PesoCategoria\", \"Estado\", \"Bcpp\"]).rename(columns={\"2018\": \"Precio2018\"})\n",
    "print(f\"Registros restantes (NO DUPLICADOS) tras limpieza: {len(df_clean)}\")"
   ]
  },
  {
   "cell_type": "markdown",
   "id": "129ec4d3",
   "metadata": {},
   "source": [
    "## Limpieza de datos faltantes"
   ]
  },
  {
   "cell_type": "code",
   "execution_count": 6,
   "id": "0d11b9d1",
   "metadata": {},
   "outputs": [
    {
     "name": "stdout",
     "output_type": "stream",
     "text": [
      "La variable 'Peso' tiene 1802 registros que pasan a ser considerados de '0' a 'Nulo'.\n",
      "La variable 'Potencia' tiene 1080 registros que pasan a ser considerados de '0' a 'Nulo'.\n",
      "La variable 'Cilindraje' tiene 742 registros que pasan a ser considerados de '0' a 'Nulo'.\n",
      "La variable 'CapacidadPasajeros' tiene 565 registros que pasan a ser considerados de '0' a 'Nulo'.\n",
      "La variable 'Ejes' tiene 68 registros que pasan a ser considerados de '0' a 'Nulo'.\n"
     ]
    }
   ],
   "source": [
    "print(f\"La variable 'Peso' tiene {(df_clean['Peso'] == 0).sum()} registros que pasan a ser considerados de '0' a 'Nulo'.\")\n",
    "df_clean['Peso'] = df_clean['Peso'].replace(0, np.nan)\n",
    "print(f\"La variable 'Potencia' tiene {(df_clean['Potencia'] == 0).sum()} registros que pasan a ser considerados de '0' a 'Nulo'.\")\n",
    "df_clean['Potencia'] = df_clean['Potencia'].replace(0, np.nan)\n",
    "print(f\"La variable 'Cilindraje' tiene {(df_clean['Cilindraje'] == 0).sum()} registros que pasan a ser considerados de '0' a 'Nulo'.\")\n",
    "df_clean['Cilindraje'] = df_clean['Cilindraje'].replace(0, np.nan)\n",
    "print(f\"La variable 'CapacidadPasajeros' tiene {(df_clean['CapacidadPasajeros'] == 0).sum()} registros que pasan a ser considerados de '0' a 'Nulo'.\")\n",
    "df_clean['CapacidadPasajeros'] = df_clean['CapacidadPasajeros'].replace(0, np.nan)\n",
    "print(f\"La variable 'Ejes' tiene {(df_clean['Ejes'] == 0).sum()} registros que pasan a ser considerados de '0' a 'Nulo'.\")\n",
    "df_clean['Ejes'] = df_clean['Ejes'].replace(0, np.nan)"
   ]
  },
  {
   "cell_type": "code",
   "execution_count": 7,
   "id": "4d49d952",
   "metadata": {},
   "outputs": [
    {
     "data": {
      "text/html": [
       "<div>\n",
       "<style scoped>\n",
       "    .dataframe tbody tr th:only-of-type {\n",
       "        vertical-align: middle;\n",
       "    }\n",
       "\n",
       "    .dataframe tbody tr th {\n",
       "        vertical-align: top;\n",
       "    }\n",
       "\n",
       "    .dataframe thead th {\n",
       "        text-align: right;\n",
       "    }\n",
       "</style>\n",
       "<table border=\"1\" class=\"dataframe\">\n",
       "  <thead>\n",
       "    <tr style=\"text-align: right;\">\n",
       "      <th></th>\n",
       "      <th>Peso</th>\n",
       "      <th>IdServicio</th>\n",
       "      <th>Precio2018</th>\n",
       "      <th>Importado</th>\n",
       "      <th>Potencia</th>\n",
       "      <th>Cilindraje</th>\n",
       "      <th>CapacidadPasajeros</th>\n",
       "      <th>CapacidadCarga</th>\n",
       "      <th>Puertas</th>\n",
       "      <th>AireAcondicionado</th>\n",
       "      <th>Ejes</th>\n",
       "    </tr>\n",
       "  </thead>\n",
       "  <tbody>\n",
       "    <tr>\n",
       "      <th>count</th>\n",
       "      <td>9563.000000</td>\n",
       "      <td>9563.000000</td>\n",
       "      <td>9.563000e+03</td>\n",
       "      <td>9563.000000</td>\n",
       "      <td>9563.000000</td>\n",
       "      <td>9563.000000</td>\n",
       "      <td>9563.000000</td>\n",
       "      <td>9563.000000</td>\n",
       "      <td>9563.000000</td>\n",
       "      <td>9563.000000</td>\n",
       "      <td>9563.000000</td>\n",
       "    </tr>\n",
       "    <tr>\n",
       "      <th>mean</th>\n",
       "      <td>1818.760326</td>\n",
       "      <td>1.193349</td>\n",
       "      <td>8.580457e+04</td>\n",
       "      <td>0.855798</td>\n",
       "      <td>147.627627</td>\n",
       "      <td>2727.209976</td>\n",
       "      <td>4.721949</td>\n",
       "      <td>1517.171285</td>\n",
       "      <td>3.151835</td>\n",
       "      <td>0.606191</td>\n",
       "      <td>2.027502</td>\n",
       "    </tr>\n",
       "    <tr>\n",
       "      <th>std</th>\n",
       "      <td>1627.179133</td>\n",
       "      <td>0.394945</td>\n",
       "      <td>8.400372e+04</td>\n",
       "      <td>0.351312</td>\n",
       "      <td>90.091627</td>\n",
       "      <td>2137.137287</td>\n",
       "      <td>4.430949</td>\n",
       "      <td>4068.401431</td>\n",
       "      <td>1.697826</td>\n",
       "      <td>0.488619</td>\n",
       "      <td>0.175278</td>\n",
       "    </tr>\n",
       "    <tr>\n",
       "      <th>min</th>\n",
       "      <td>52.000000</td>\n",
       "      <td>1.000000</td>\n",
       "      <td>1.400000e+03</td>\n",
       "      <td>0.000000</td>\n",
       "      <td>3.000000</td>\n",
       "      <td>49.000000</td>\n",
       "      <td>1.000000</td>\n",
       "      <td>0.000000</td>\n",
       "      <td>0.000000</td>\n",
       "      <td>0.000000</td>\n",
       "      <td>2.000000</td>\n",
       "    </tr>\n",
       "    <tr>\n",
       "      <th>25%</th>\n",
       "      <td>1092.000000</td>\n",
       "      <td>1.000000</td>\n",
       "      <td>3.600000e+04</td>\n",
       "      <td>1.000000</td>\n",
       "      <td>95.000000</td>\n",
       "      <td>1500.000000</td>\n",
       "      <td>2.000000</td>\n",
       "      <td>0.000000</td>\n",
       "      <td>2.000000</td>\n",
       "      <td>0.000000</td>\n",
       "      <td>2.000000</td>\n",
       "    </tr>\n",
       "    <tr>\n",
       "      <th>50%</th>\n",
       "      <td>1475.000000</td>\n",
       "      <td>1.000000</td>\n",
       "      <td>6.300000e+04</td>\n",
       "      <td>1.000000</td>\n",
       "      <td>133.000000</td>\n",
       "      <td>2156.000000</td>\n",
       "      <td>5.000000</td>\n",
       "      <td>0.000000</td>\n",
       "      <td>4.000000</td>\n",
       "      <td>1.000000</td>\n",
       "      <td>2.000000</td>\n",
       "    </tr>\n",
       "    <tr>\n",
       "      <th>75%</th>\n",
       "      <td>2049.500000</td>\n",
       "      <td>1.000000</td>\n",
       "      <td>1.087000e+05</td>\n",
       "      <td>1.000000</td>\n",
       "      <td>185.000000</td>\n",
       "      <td>3498.000000</td>\n",
       "      <td>5.000000</td>\n",
       "      <td>0.000000</td>\n",
       "      <td>5.000000</td>\n",
       "      <td>1.000000</td>\n",
       "      <td>2.000000</td>\n",
       "    </tr>\n",
       "    <tr>\n",
       "      <th>max</th>\n",
       "      <td>41000.000000</td>\n",
       "      <td>2.000000</td>\n",
       "      <td>1.750000e+06</td>\n",
       "      <td>1.000000</td>\n",
       "      <td>662.000000</td>\n",
       "      <td>15000.000000</td>\n",
       "      <td>54.000000</td>\n",
       "      <td>45000.000000</td>\n",
       "      <td>6.000000</td>\n",
       "      <td>1.000000</td>\n",
       "      <td>4.000000</td>\n",
       "    </tr>\n",
       "  </tbody>\n",
       "</table>\n",
       "</div>"
      ],
      "text/plain": [
       "               Peso   IdServicio    Precio2018    Importado     Potencia  \\\n",
       "count   9563.000000  9563.000000  9.563000e+03  9563.000000  9563.000000   \n",
       "mean    1818.760326     1.193349  8.580457e+04     0.855798   147.627627   \n",
       "std     1627.179133     0.394945  8.400372e+04     0.351312    90.091627   \n",
       "min       52.000000     1.000000  1.400000e+03     0.000000     3.000000   \n",
       "25%     1092.000000     1.000000  3.600000e+04     1.000000    95.000000   \n",
       "50%     1475.000000     1.000000  6.300000e+04     1.000000   133.000000   \n",
       "75%     2049.500000     1.000000  1.087000e+05     1.000000   185.000000   \n",
       "max    41000.000000     2.000000  1.750000e+06     1.000000   662.000000   \n",
       "\n",
       "         Cilindraje  CapacidadPasajeros  CapacidadCarga      Puertas  \\\n",
       "count   9563.000000         9563.000000     9563.000000  9563.000000   \n",
       "mean    2727.209976            4.721949     1517.171285     3.151835   \n",
       "std     2137.137287            4.430949     4068.401431     1.697826   \n",
       "min       49.000000            1.000000        0.000000     0.000000   \n",
       "25%     1500.000000            2.000000        0.000000     2.000000   \n",
       "50%     2156.000000            5.000000        0.000000     4.000000   \n",
       "75%     3498.000000            5.000000        0.000000     5.000000   \n",
       "max    15000.000000           54.000000    45000.000000     6.000000   \n",
       "\n",
       "       AireAcondicionado         Ejes  \n",
       "count        9563.000000  9563.000000  \n",
       "mean            0.606191     2.027502  \n",
       "std             0.488619     0.175278  \n",
       "min             0.000000     2.000000  \n",
       "25%             0.000000     2.000000  \n",
       "50%             1.000000     2.000000  \n",
       "75%             1.000000     2.000000  \n",
       "max             1.000000     4.000000  "
      ]
     },
     "execution_count": 7,
     "metadata": {},
     "output_type": "execute_result"
    }
   ],
   "source": [
    "df_clean = df_clean.dropna()\n",
    "df_clean.describe()"
   ]
  },
  {
   "cell_type": "code",
   "execution_count": 8,
   "id": "df95d65d",
   "metadata": {},
   "outputs": [
    {
     "data": {
      "image/png": "[encoded data removed]",
      "text/plain": [
       "<Figure size 864x432 with 1 Axes>"
      ]
     },
     "metadata": {
      "needs_background": "light"
     },
     "output_type": "display_data"
    }
   ],
   "source": [
    "porcentaje_completitud = df.notnull().mean() * 100\n",
    "plt.figure(figsize=(12, 6))\n",
    "porcentaje_completitud.plot(kind='bar', color='skyblue')\n",
    "plt.title('Porcentaje de Completitud por Columna (Antes de limpieza)')\n",
    "plt.xlabel('Columnas')\n",
    "plt.ylabel('Porcentaje de Completitud (%)')\n",
    "plt.xticks(rotation=45)\n",
    "plt.ylim(0, 100)\n",
    "plt.show()"
   ]
  },
  {
   "cell_type": "code",
   "execution_count": 9,
   "id": "02f0d490",
   "metadata": {},
   "outputs": [
    {
     "data": {
      "image/png": "[encoded data removed]",
      "text/plain": [
       "<Figure size 864x432 with 1 Axes>"
      ]
     },
     "metadata": {
      "needs_background": "light"
     },
     "output_type": "display_data"
    }
   ],
   "source": [
    "porcentaje_completitud = df_clean.notnull().mean() * 100\n",
    "plt.figure(figsize=(12, 6))\n",
    "porcentaje_completitud.plot(kind='bar', color='skyblue')\n",
    "plt.title('Porcentaje de Completitud por Columna (Después de limpieza)')\n",
    "plt.xlabel('Columnas')\n",
    "plt.ylabel('Porcentaje de Completitud (%)')\n",
    "plt.xticks(rotation=45)\n",
    "plt.ylim(0, 100)\n",
    "plt.show()"
   ]
  },
  {
   "cell_type": "markdown",
   "id": "99010970",
   "metadata": {},
   "source": [
    "## Estandarización y Normalización de variables"
   ]
  },
  {
   "cell_type": "code",
   "execution_count": 10,
   "id": "a22ec1b4",
   "metadata": {},
   "outputs": [],
   "source": [
    "from sklearn.preprocessing import StandardScaler, OneHotEncoder\n",
    "from sklearn.compose import ColumnTransformer"
   ]
  },
  {
   "cell_type": "code",
   "execution_count": 11,
   "id": "c3c71a80",
   "metadata": {},
   "outputs": [
    {
     "name": "stdout",
     "output_type": "stream",
     "text": [
      "Se están contemplando todas las columnas del dataset? - True\n"
     ]
    }
   ],
   "source": [
    "categorical_features = ['Novedad', 'Marca', 'Clase', 'TipoCaja', 'Nacionalidad', 'Combustible', 'Transmision']\n",
    "binary_features = ['IdServicio', 'Importado', 'AireAcondicionado']\n",
    "discrete_features = ['CapacidadPasajeros', 'Puertas', 'Ejes']\n",
    "continuous_features = ['Peso', 'Potencia', 'Cilindraje', 'CapacidadCarga']\n",
    "print(f\"Se están contemplando todas las columnas del dataset? - {len(categorical_features + binary_features + discrete_features + continuous_features) == len(df_clean.columns) - 1}\")"
   ]
  },
  {
   "cell_type": "code",
   "execution_count": 12,
   "id": "f7fdf519",
   "metadata": {},
   "outputs": [
    {
     "name": "stdout",
     "output_type": "stream",
     "text": [
      "<class 'pandas.core.frame.DataFrame'>\n",
      "RangeIndex: 9563 entries, 0 to 9562\n",
      "Columns: 285 entries, Novedad_M to CapacidadCarga\n",
      "dtypes: Sparse[float64, 0](285)\n",
      "memory usage: 1.7 MB\n"
     ]
    }
   ],
   "source": [
    "# Definir transformaciones para cada tipo de dato\n",
    "categorical_transformer = OneHotEncoder(drop='first')\n",
    "binary_transformer = StandardScaler()\n",
    "discrete_transformer = StandardScaler()\n",
    "continuous_transformer = StandardScaler()\n",
    "\n",
    "# Definir la lista de pasos para el preprocesamiento\n",
    "preprocessor = ColumnTransformer(\n",
    "    transformers=[\n",
    "        ('cat', categorical_transformer, categorical_features),\n",
    "        ('bin', binary_transformer, binary_features),\n",
    "        ('dis', discrete_transformer, discrete_features),\n",
    "        ('cont', continuous_transformer, continuous_features)\n",
    "    ])\n",
    "\n",
    "# Obtener las categorías de las variables categóricas después de ajustar el transformador\n",
    "categorical_transformer.fit(df_clean[categorical_features])\n",
    "\n",
    "# Aplicar el preprocesamiento al conjunto de datos\n",
    "df_processed = preprocessor.fit_transform(df_clean)\n",
    "\n",
    "# Obtener las categorías transformadas\n",
    "categories = categorical_transformer.categories_\n",
    "\n",
    "# Obtener los nombres de las columnas transformadas\n",
    "categorical_columns = [f\"{feature}_{category}\" for feature, cats in zip(categorical_features, categories) for category in cats[1:]]\n",
    "all_features = categorical_columns + binary_features + discrete_features + continuous_features\n",
    "\n",
    "# Reconstruir un DataFrame con los datos procesados y los nombres de las columnas apropiados\n",
    "df_processed = pd.DataFrame.sparse.from_spmatrix(df_processed)\n",
    "df_processed.columns = all_features\n",
    "df_processed.info()"
   ]
  },
  {
   "cell_type": "markdown",
   "id": "2b9314c2",
   "metadata": {},
   "source": [
    "## Guardando resultados"
   ]
  },
  {
   "cell_type": "code",
   "execution_count": 15,
   "id": "4f6a023f",
   "metadata": {},
   "outputs": [],
   "source": [
    "df_processed.to_csv(f\"{base_path}src/nombre_paquete/database/vehicles_colombia_preprocesado.csv\", index=False)"
   ]
  },
  {
   "cell_type": "code",
   "execution_count": null,
   "id": "80721d6b",
   "metadata": {},
   "outputs": [],
   "source": []
  }
 ],
 "metadata": {
  "kernelspec": {
   "display_name": "Python 3 (ipykernel)",
   "language": "python",
   "name": "python3"
  },
  "language_info": {
   "codemirror_mode": {
    "name": "ipython",
    "version": 3
   },
   "file_extension": ".py",
   "mimetype": "text/x-python",
   "name": "python",
   "nbconvert_exporter": "python",
   "pygments_lexer": "ipython3",
   "version": "3.9.7"
  }
 },
 "nbformat": 4,
 "nbformat_minor": 5
}
